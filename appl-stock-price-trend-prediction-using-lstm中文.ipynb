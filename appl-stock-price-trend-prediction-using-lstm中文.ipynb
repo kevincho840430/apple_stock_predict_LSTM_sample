{
 "cells": [
  {
   "cell_type": "markdown",
   "metadata": {
    "_uuid": "13bd8630867f1540049a27d97d245fa3ef807e3d"
   },
   "source": [
    "# 股價分析預測Sample\n",
    "### 在本教程中，我們將嘗試預測APPL股票價格中存在的向上和向下趨勢，即我們對預測所採取的方向更感興趣，而不是他們的價值與實際股票價格的接近程度。\n",
    "\n",
    "### 我們不會使用時間序列預測，而是使用長期短期記憶（LSTM）進行預測。 它比ARIMA模型表現更好。 我們將設計具有高維度的堆疊LSTM。\n",
    "\n",
    "### 我們將使用6年的APPL股票價格培訓我們的LSTM模型，從2009年的上一個財政日期到2016年的最後一個財務日期。根據我們的模型所捕獲的相關性，我們將嘗試預測第一財務的開放股票價格 2017年的一天到2018年8月的最後一個財政日。再次，我們不會預測實際價格，而是試圖預測股價的上行和下行趨勢。"
   ]
  },
  {
   "cell_type": "markdown",
   "metadata": {
    "_uuid": "b966ce47ddf06fd2a5f7072fedc7f0212dbf1dfa"
   },
   "source": [
    "## Importing the libraries."
   ]
  },
  {
   "cell_type": "code",
   "execution_count": 19,
   "metadata": {
    "_cell_guid": "b1076dfc-b9ad-4769-8c92-a6c4dae69d19",
    "_uuid": "8f2839f25d086af736a60e9eeb907d3b93b6e0e5"
   },
   "outputs": [],
   "source": [
    "import numpy as np # linear algebra\n",
    "import pandas as pd # data processing, CSV file I/O (e.g. pd.read_csv)\n",
    "import os\n",
    "\n",
    "import matplotlib.pylab as plt\n",
    "%matplotlib inline\n",
    "from matplotlib.pylab import rcParams\n",
    "rcParams['figure.figsize'] = 15, 6\n",
    "\n",
    "from sklearn.preprocessing import MinMaxScaler\n",
    "from keras.models import Sequential\n",
    "from keras.layers import Dense\n",
    "from keras.layers import LSTM\n",
    "from keras.layers import Dropout\n",
    "\n",
    "import math\n",
    "from sklearn.metrics import mean_squared_error"
   ]
  },
  {
   "cell_type": "markdown",
   "metadata": {
    "_uuid": "b87e7c6c4a3298c31f91137fa5ac48caf04c4fd7"
   },
   "source": [
    "## Loading APPL Stock Price train and test dataset"
   ]
  },
  {
   "cell_type": "code",
   "execution_count": 20,
   "metadata": {
    "_cell_guid": "79c7e3d0-c299-4dcb-8224-4455121ee9b0",
    "_uuid": "d629ff2d2480ee46fbb7e2d37f6b5fab8052498a"
   },
   "outputs": [],
   "source": [
    "#將trian.csv讀入\n",
    "train_data = pd.read_csv(\"train.csv\", header=0)"
   ]
  },
  {
   "cell_type": "code",
   "execution_count": 21,
   "metadata": {
    "_uuid": "2762853aa5ed8481ed8830ff83db5dbb2f790b62"
   },
   "outputs": [
    {
     "data": {
      "text/html": [
       "<div>\n",
       "<style scoped>\n",
       "    .dataframe tbody tr th:only-of-type {\n",
       "        vertical-align: middle;\n",
       "    }\n",
       "\n",
       "    .dataframe tbody tr th {\n",
       "        vertical-align: top;\n",
       "    }\n",
       "\n",
       "    .dataframe thead th {\n",
       "        text-align: right;\n",
       "    }\n",
       "</style>\n",
       "<table border=\"1\" class=\"dataframe\">\n",
       "  <thead>\n",
       "    <tr style=\"text-align: right;\">\n",
       "      <th></th>\n",
       "      <th>Date</th>\n",
       "      <th>Open</th>\n",
       "      <th>High</th>\n",
       "      <th>Low</th>\n",
       "      <th>Close</th>\n",
       "      <th>Adj Close</th>\n",
       "      <th>Volume</th>\n",
       "    </tr>\n",
       "  </thead>\n",
       "  <tbody>\n",
       "    <tr>\n",
       "      <th>0</th>\n",
       "      <td>2009-12-31</td>\n",
       "      <td>30.447144</td>\n",
       "      <td>30.478571</td>\n",
       "      <td>30.080000</td>\n",
       "      <td>30.104286</td>\n",
       "      <td>20.230061</td>\n",
       "      <td>88102700</td>\n",
       "    </tr>\n",
       "    <tr>\n",
       "      <th>1</th>\n",
       "      <td>2010-01-04</td>\n",
       "      <td>30.490000</td>\n",
       "      <td>30.642857</td>\n",
       "      <td>30.340000</td>\n",
       "      <td>30.572857</td>\n",
       "      <td>20.544939</td>\n",
       "      <td>123432400</td>\n",
       "    </tr>\n",
       "    <tr>\n",
       "      <th>2</th>\n",
       "      <td>2010-01-05</td>\n",
       "      <td>30.657143</td>\n",
       "      <td>30.798571</td>\n",
       "      <td>30.464285</td>\n",
       "      <td>30.625713</td>\n",
       "      <td>20.580460</td>\n",
       "      <td>150476200</td>\n",
       "    </tr>\n",
       "    <tr>\n",
       "      <th>3</th>\n",
       "      <td>2010-01-06</td>\n",
       "      <td>30.625713</td>\n",
       "      <td>30.747143</td>\n",
       "      <td>30.107143</td>\n",
       "      <td>30.138571</td>\n",
       "      <td>20.253105</td>\n",
       "      <td>138040000</td>\n",
       "    </tr>\n",
       "    <tr>\n",
       "      <th>4</th>\n",
       "      <td>2010-01-07</td>\n",
       "      <td>30.250000</td>\n",
       "      <td>30.285715</td>\n",
       "      <td>29.864286</td>\n",
       "      <td>30.082857</td>\n",
       "      <td>20.215658</td>\n",
       "      <td>119282800</td>\n",
       "    </tr>\n",
       "  </tbody>\n",
       "</table>\n",
       "</div>"
      ],
      "text/plain": [
       "         Date       Open       High        Low      Close  Adj Close  \\\n",
       "0  2009-12-31  30.447144  30.478571  30.080000  30.104286  20.230061   \n",
       "1  2010-01-04  30.490000  30.642857  30.340000  30.572857  20.544939   \n",
       "2  2010-01-05  30.657143  30.798571  30.464285  30.625713  20.580460   \n",
       "3  2010-01-06  30.625713  30.747143  30.107143  30.138571  20.253105   \n",
       "4  2010-01-07  30.250000  30.285715  29.864286  30.082857  20.215658   \n",
       "\n",
       "      Volume  \n",
       "0   88102700  \n",
       "1  123432400  \n",
       "2  150476200  \n",
       "3  138040000  \n",
       "4  119282800  "
      ]
     },
     "execution_count": 21,
     "metadata": {},
     "output_type": "execute_result"
    }
   ],
   "source": [
    "#查看train前五筆資料型態\n",
    "train_data.head()"
   ]
  },
  {
   "cell_type": "code",
   "execution_count": 22,
   "metadata": {
    "_uuid": "1f279ee3c98a821d1ea290eba7868f88ff1c95dc"
   },
   "outputs": [],
   "source": [
    "#將test.csv讀入\n",
    "test_data = pd.read_csv(\"test.csv\")"
   ]
  },
  {
   "cell_type": "code",
   "execution_count": 23,
   "metadata": {
    "_uuid": "0d36bcf55d89c1b3e84ca6d1acb7637c9e11c773"
   },
   "outputs": [
    {
     "data": {
      "text/html": [
       "<div>\n",
       "<style scoped>\n",
       "    .dataframe tbody tr th:only-of-type {\n",
       "        vertical-align: middle;\n",
       "    }\n",
       "\n",
       "    .dataframe tbody tr th {\n",
       "        vertical-align: top;\n",
       "    }\n",
       "\n",
       "    .dataframe thead th {\n",
       "        text-align: right;\n",
       "    }\n",
       "</style>\n",
       "<table border=\"1\" class=\"dataframe\">\n",
       "  <thead>\n",
       "    <tr style=\"text-align: right;\">\n",
       "      <th></th>\n",
       "      <th>Date</th>\n",
       "      <th>Open</th>\n",
       "      <th>High</th>\n",
       "      <th>Low</th>\n",
       "      <th>Close</th>\n",
       "      <th>Adj Close</th>\n",
       "      <th>Volume</th>\n",
       "    </tr>\n",
       "  </thead>\n",
       "  <tbody>\n",
       "    <tr>\n",
       "      <th>0</th>\n",
       "      <td>2017-01-03</td>\n",
       "      <td>115.800003</td>\n",
       "      <td>116.330002</td>\n",
       "      <td>114.760002</td>\n",
       "      <td>116.150002</td>\n",
       "      <td>113.013916</td>\n",
       "      <td>28781900</td>\n",
       "    </tr>\n",
       "    <tr>\n",
       "      <th>1</th>\n",
       "      <td>2017-01-04</td>\n",
       "      <td>115.849998</td>\n",
       "      <td>116.510002</td>\n",
       "      <td>115.750000</td>\n",
       "      <td>116.019997</td>\n",
       "      <td>112.887413</td>\n",
       "      <td>21118100</td>\n",
       "    </tr>\n",
       "    <tr>\n",
       "      <th>2</th>\n",
       "      <td>2017-01-05</td>\n",
       "      <td>115.919998</td>\n",
       "      <td>116.860001</td>\n",
       "      <td>115.809998</td>\n",
       "      <td>116.610001</td>\n",
       "      <td>113.461502</td>\n",
       "      <td>22193600</td>\n",
       "    </tr>\n",
       "    <tr>\n",
       "      <th>3</th>\n",
       "      <td>2017-01-06</td>\n",
       "      <td>116.779999</td>\n",
       "      <td>118.160004</td>\n",
       "      <td>116.470001</td>\n",
       "      <td>117.910004</td>\n",
       "      <td>114.726402</td>\n",
       "      <td>31751900</td>\n",
       "    </tr>\n",
       "    <tr>\n",
       "      <th>4</th>\n",
       "      <td>2017-01-09</td>\n",
       "      <td>117.949997</td>\n",
       "      <td>119.430000</td>\n",
       "      <td>117.940002</td>\n",
       "      <td>118.989998</td>\n",
       "      <td>115.777237</td>\n",
       "      <td>33561900</td>\n",
       "    </tr>\n",
       "  </tbody>\n",
       "</table>\n",
       "</div>"
      ],
      "text/plain": [
       "         Date        Open        High         Low       Close   Adj Close  \\\n",
       "0  2017-01-03  115.800003  116.330002  114.760002  116.150002  113.013916   \n",
       "1  2017-01-04  115.849998  116.510002  115.750000  116.019997  112.887413   \n",
       "2  2017-01-05  115.919998  116.860001  115.809998  116.610001  113.461502   \n",
       "3  2017-01-06  116.779999  118.160004  116.470001  117.910004  114.726402   \n",
       "4  2017-01-09  117.949997  119.430000  117.940002  118.989998  115.777237   \n",
       "\n",
       "     Volume  \n",
       "0  28781900  \n",
       "1  21118100  \n",
       "2  22193600  \n",
       "3  31751900  \n",
       "4  33561900  "
      ]
     },
     "execution_count": 23,
     "metadata": {},
     "output_type": "execute_result"
    }
   ],
   "source": [
    "#查看test前五筆資料型態\n",
    "test_data.head()"
   ]
  },
  {
   "cell_type": "markdown",
   "metadata": {
    "_uuid": "a580a1dca8427c401e0662bfdabcafe404a63edf"
   },
   "source": [
    "## Visualizing train data\n",
    "pd.datetime.strptime 用法: https://blog.csdn.net/lz_peter/article/details/78075909"
   ]
  },
  {
   "cell_type": "code",
   "execution_count": 24,
   "metadata": {
    "_uuid": "8ee4faf56da8ebd81db964b51d4a955b0b51e08f"
   },
   "outputs": [
    {
     "name": "stderr",
     "output_type": "stream",
     "text": [
      "C:\\Users\\kevin\\AppData\\Local\\Temp\\ipykernel_29144\\3244096761.py:2: FutureWarning: The pandas.datetime class is deprecated and will be removed from pandas in a future version. Import from datetime module instead.\n",
      "  dateparse = lambda dates: pd.datetime.strptime(dates, '%Y-%m-%d')\n"
     ]
    }
   ],
   "source": [
    "#時間轉換\n",
    "dateparse = lambda dates: pd.datetime.strptime(dates, '%Y-%m-%d')\n",
    "data_train = pd.read_csv('train.csv', parse_dates=['Date'], index_col='Date',date_parser=dateparse)"
   ]
  },
  {
   "cell_type": "code",
   "execution_count": 25,
   "metadata": {
    "_uuid": "5c6d1c57e27190a26f40f41ab75f89054434d8f6",
    "scrolled": true
   },
   "outputs": [
    {
     "data": {
      "text/plain": [
       "[<matplotlib.lines.Line2D at 0x2df01c46340>]"
      ]
     },
     "execution_count": 25,
     "metadata": {},
     "output_type": "execute_result"
    },
    {
     "data": {
      "image/png": "[encoded data removed]",
      "text/plain": [
       "<Figure size 1080x432 with 1 Axes>"
      ]
     },
     "metadata": {
      "needs_background": "light"
     },
     "output_type": "display_data"
    }
   ],
   "source": [
    "#定義圖數據\n",
    "ts = data_train['Open'] \n",
    "plt.xlabel('Dates')\n",
    "plt.ylabel('Open Prices')\n",
    "plt.plot(ts)"
   ]
  },
  {
   "cell_type": "markdown",
   "metadata": {
    "_uuid": "a83be4bbbe60a4222a64d375f1ac58a5d29b62a1"
   },
   "source": [
    "## Visualizing test data Open Price trends with respect to date that will be predicted by our RNN model"
   ]
  },
  {
   "cell_type": "code",
   "execution_count": 26,
   "metadata": {
    "_uuid": "e695fcac1e6cb6454841ef100bb647d36defe63f"
   },
   "outputs": [
    {
     "name": "stderr",
     "output_type": "stream",
     "text": [
      "C:\\Users\\kevin\\AppData\\Local\\Temp\\ipykernel_29144\\3244096761.py:2: FutureWarning: The pandas.datetime class is deprecated and will be removed from pandas in a future version. Import from datetime module instead.\n",
      "  dateparse = lambda dates: pd.datetime.strptime(dates, '%Y-%m-%d')\n"
     ]
    }
   ],
   "source": [
    "data_test = pd.read_csv('test.csv', parse_dates=['Date'], index_col='Date',date_parser=dateparse)"
   ]
  },
  {
   "cell_type": "code",
   "execution_count": 27,
   "metadata": {
    "_uuid": "8c63fc1d3229284388def403f75eadd3081af760"
   },
   "outputs": [
    {
     "data": {
      "text/plain": [
       "[<matplotlib.lines.Line2D at 0x2df01e69f70>]"
      ]
     },
     "execution_count": 27,
     "metadata": {},
     "output_type": "execute_result"
    },
    {
     "data": {
      "image/png": "[encoded data removed]",
      "text/plain": [
       "<Figure size 1080x432 with 1 Axes>"
      ]
     },
     "metadata": {
      "needs_background": "light"
     },
     "output_type": "display_data"
    }
   ],
   "source": [
    "ts = data_test['Open'] \n",
    "plt.xlabel('Dates')\n",
    "plt.ylabel('Open Prices')\n",
    "plt.plot(ts)"
   ]
  },
  {
   "cell_type": "code",
   "execution_count": 28,
   "metadata": {},
   "outputs": [
    {
     "data": {
      "text/html": [
       "<div>\n",
       "<style scoped>\n",
       "    .dataframe tbody tr th:only-of-type {\n",
       "        vertical-align: middle;\n",
       "    }\n",
       "\n",
       "    .dataframe tbody tr th {\n",
       "        vertical-align: top;\n",
       "    }\n",
       "\n",
       "    .dataframe thead th {\n",
       "        text-align: right;\n",
       "    }\n",
       "</style>\n",
       "<table border=\"1\" class=\"dataframe\">\n",
       "  <thead>\n",
       "    <tr style=\"text-align: right;\">\n",
       "      <th></th>\n",
       "      <th>Date</th>\n",
       "      <th>Open</th>\n",
       "      <th>High</th>\n",
       "      <th>Low</th>\n",
       "      <th>Close</th>\n",
       "      <th>Adj Close</th>\n",
       "      <th>Volume</th>\n",
       "    </tr>\n",
       "  </thead>\n",
       "  <tbody>\n",
       "    <tr>\n",
       "      <th>0</th>\n",
       "      <td>2009-12-31</td>\n",
       "      <td>30.447144</td>\n",
       "      <td>30.478571</td>\n",
       "      <td>30.080000</td>\n",
       "      <td>30.104286</td>\n",
       "      <td>20.230061</td>\n",
       "      <td>88102700</td>\n",
       "    </tr>\n",
       "    <tr>\n",
       "      <th>1</th>\n",
       "      <td>2010-01-04</td>\n",
       "      <td>30.490000</td>\n",
       "      <td>30.642857</td>\n",
       "      <td>30.340000</td>\n",
       "      <td>30.572857</td>\n",
       "      <td>20.544939</td>\n",
       "      <td>123432400</td>\n",
       "    </tr>\n",
       "    <tr>\n",
       "      <th>2</th>\n",
       "      <td>2010-01-05</td>\n",
       "      <td>30.657143</td>\n",
       "      <td>30.798571</td>\n",
       "      <td>30.464285</td>\n",
       "      <td>30.625713</td>\n",
       "      <td>20.580460</td>\n",
       "      <td>150476200</td>\n",
       "    </tr>\n",
       "    <tr>\n",
       "      <th>3</th>\n",
       "      <td>2010-01-06</td>\n",
       "      <td>30.625713</td>\n",
       "      <td>30.747143</td>\n",
       "      <td>30.107143</td>\n",
       "      <td>30.138571</td>\n",
       "      <td>20.253105</td>\n",
       "      <td>138040000</td>\n",
       "    </tr>\n",
       "    <tr>\n",
       "      <th>4</th>\n",
       "      <td>2010-01-07</td>\n",
       "      <td>30.250000</td>\n",
       "      <td>30.285715</td>\n",
       "      <td>29.864286</td>\n",
       "      <td>30.082857</td>\n",
       "      <td>20.215658</td>\n",
       "      <td>119282800</td>\n",
       "    </tr>\n",
       "    <tr>\n",
       "      <th>...</th>\n",
       "      <td>...</td>\n",
       "      <td>...</td>\n",
       "      <td>...</td>\n",
       "      <td>...</td>\n",
       "      <td>...</td>\n",
       "      <td>...</td>\n",
       "      <td>...</td>\n",
       "    </tr>\n",
       "    <tr>\n",
       "      <th>1758</th>\n",
       "      <td>2016-12-23</td>\n",
       "      <td>115.589996</td>\n",
       "      <td>116.519997</td>\n",
       "      <td>115.589996</td>\n",
       "      <td>116.519997</td>\n",
       "      <td>113.373917</td>\n",
       "      <td>14181200</td>\n",
       "    </tr>\n",
       "    <tr>\n",
       "      <th>1759</th>\n",
       "      <td>2016-12-27</td>\n",
       "      <td>116.519997</td>\n",
       "      <td>117.800003</td>\n",
       "      <td>116.489998</td>\n",
       "      <td>117.260002</td>\n",
       "      <td>114.093948</td>\n",
       "      <td>18296900</td>\n",
       "    </tr>\n",
       "    <tr>\n",
       "      <th>1760</th>\n",
       "      <td>2016-12-28</td>\n",
       "      <td>117.519997</td>\n",
       "      <td>118.019997</td>\n",
       "      <td>116.199997</td>\n",
       "      <td>116.760002</td>\n",
       "      <td>113.607445</td>\n",
       "      <td>20905900</td>\n",
       "    </tr>\n",
       "    <tr>\n",
       "      <th>1761</th>\n",
       "      <td>2016-12-29</td>\n",
       "      <td>116.449997</td>\n",
       "      <td>117.110001</td>\n",
       "      <td>116.400002</td>\n",
       "      <td>116.730003</td>\n",
       "      <td>113.578247</td>\n",
       "      <td>15039500</td>\n",
       "    </tr>\n",
       "    <tr>\n",
       "      <th>1762</th>\n",
       "      <td>2016-12-30</td>\n",
       "      <td>116.650002</td>\n",
       "      <td>117.199997</td>\n",
       "      <td>115.430000</td>\n",
       "      <td>115.820000</td>\n",
       "      <td>112.692825</td>\n",
       "      <td>30586300</td>\n",
       "    </tr>\n",
       "  </tbody>\n",
       "</table>\n",
       "<p>1763 rows × 7 columns</p>\n",
       "</div>"
      ],
      "text/plain": [
       "            Date        Open        High         Low       Close   Adj Close  \\\n",
       "0     2009-12-31   30.447144   30.478571   30.080000   30.104286   20.230061   \n",
       "1     2010-01-04   30.490000   30.642857   30.340000   30.572857   20.544939   \n",
       "2     2010-01-05   30.657143   30.798571   30.464285   30.625713   20.580460   \n",
       "3     2010-01-06   30.625713   30.747143   30.107143   30.138571   20.253105   \n",
       "4     2010-01-07   30.250000   30.285715   29.864286   30.082857   20.215658   \n",
       "...          ...         ...         ...         ...         ...         ...   \n",
       "1758  2016-12-23  115.589996  116.519997  115.589996  116.519997  113.373917   \n",
       "1759  2016-12-27  116.519997  117.800003  116.489998  117.260002  114.093948   \n",
       "1760  2016-12-28  117.519997  118.019997  116.199997  116.760002  113.607445   \n",
       "1761  2016-12-29  116.449997  117.110001  116.400002  116.730003  113.578247   \n",
       "1762  2016-12-30  116.650002  117.199997  115.430000  115.820000  112.692825   \n",
       "\n",
       "         Volume  \n",
       "0      88102700  \n",
       "1     123432400  \n",
       "2     150476200  \n",
       "3     138040000  \n",
       "4     119282800  \n",
       "...         ...  \n",
       "1758   14181200  \n",
       "1759   18296900  \n",
       "1760   20905900  \n",
       "1761   15039500  \n",
       "1762   30586300  \n",
       "\n",
       "[1763 rows x 7 columns]"
      ]
     },
     "execution_count": 28,
     "metadata": {},
     "output_type": "execute_result"
    }
   ],
   "source": [
    "train_data"
   ]
  },
  {
   "cell_type": "code",
   "execution_count": 29,
   "metadata": {},
   "outputs": [
    {
     "data": {
      "text/html": [
       "<div>\n",
       "<style scoped>\n",
       "    .dataframe tbody tr th:only-of-type {\n",
       "        vertical-align: middle;\n",
       "    }\n",
       "\n",
       "    .dataframe tbody tr th {\n",
       "        vertical-align: top;\n",
       "    }\n",
       "\n",
       "    .dataframe thead th {\n",
       "        text-align: right;\n",
       "    }\n",
       "</style>\n",
       "<table border=\"1\" class=\"dataframe\">\n",
       "  <thead>\n",
       "    <tr style=\"text-align: right;\">\n",
       "      <th></th>\n",
       "      <th>Open</th>\n",
       "    </tr>\n",
       "  </thead>\n",
       "  <tbody>\n",
       "    <tr>\n",
       "      <th>0</th>\n",
       "      <td>30.447144</td>\n",
       "    </tr>\n",
       "    <tr>\n",
       "      <th>1</th>\n",
       "      <td>30.490000</td>\n",
       "    </tr>\n",
       "    <tr>\n",
       "      <th>2</th>\n",
       "      <td>30.657143</td>\n",
       "    </tr>\n",
       "    <tr>\n",
       "      <th>3</th>\n",
       "      <td>30.625713</td>\n",
       "    </tr>\n",
       "    <tr>\n",
       "      <th>4</th>\n",
       "      <td>30.250000</td>\n",
       "    </tr>\n",
       "    <tr>\n",
       "      <th>...</th>\n",
       "      <td>...</td>\n",
       "    </tr>\n",
       "    <tr>\n",
       "      <th>1758</th>\n",
       "      <td>115.589996</td>\n",
       "    </tr>\n",
       "    <tr>\n",
       "      <th>1759</th>\n",
       "      <td>116.519997</td>\n",
       "    </tr>\n",
       "    <tr>\n",
       "      <th>1760</th>\n",
       "      <td>117.519997</td>\n",
       "    </tr>\n",
       "    <tr>\n",
       "      <th>1761</th>\n",
       "      <td>116.449997</td>\n",
       "    </tr>\n",
       "    <tr>\n",
       "      <th>1762</th>\n",
       "      <td>116.650002</td>\n",
       "    </tr>\n",
       "  </tbody>\n",
       "</table>\n",
       "<p>1763 rows × 1 columns</p>\n",
       "</div>"
      ],
      "text/plain": [
       "            Open\n",
       "0      30.447144\n",
       "1      30.490000\n",
       "2      30.657143\n",
       "3      30.625713\n",
       "4      30.250000\n",
       "...          ...\n",
       "1758  115.589996\n",
       "1759  116.519997\n",
       "1760  117.519997\n",
       "1761  116.449997\n",
       "1762  116.650002\n",
       "\n",
       "[1763 rows x 1 columns]"
      ]
     },
     "execution_count": 29,
     "metadata": {},
     "output_type": "execute_result"
    }
   ],
   "source": [
    "train_data.iloc[:, 1:2]"
   ]
  },
  {
   "cell_type": "code",
   "execution_count": 30,
   "metadata": {
    "_uuid": "6733daf428e28bb313281ec7785ce7132cd22067"
   },
   "outputs": [],
   "source": [
    "train = train_data.iloc[:, 1:2].values"
   ]
  },
  {
   "cell_type": "code",
   "execution_count": 31,
   "metadata": {},
   "outputs": [
    {
     "data": {
      "text/html": [
       "<div>\n",
       "<style scoped>\n",
       "    .dataframe tbody tr th:only-of-type {\n",
       "        vertical-align: middle;\n",
       "    }\n",
       "\n",
       "    .dataframe tbody tr th {\n",
       "        vertical-align: top;\n",
       "    }\n",
       "\n",
       "    .dataframe thead th {\n",
       "        text-align: right;\n",
       "    }\n",
       "</style>\n",
       "<table border=\"1\" class=\"dataframe\">\n",
       "  <thead>\n",
       "    <tr style=\"text-align: right;\">\n",
       "      <th></th>\n",
       "      <th>Date</th>\n",
       "      <th>Open</th>\n",
       "      <th>High</th>\n",
       "      <th>Low</th>\n",
       "      <th>Close</th>\n",
       "      <th>Adj Close</th>\n",
       "      <th>Volume</th>\n",
       "    </tr>\n",
       "  </thead>\n",
       "  <tbody>\n",
       "    <tr>\n",
       "      <th>0</th>\n",
       "      <td>2009-12-31</td>\n",
       "      <td>30.447144</td>\n",
       "      <td>30.478571</td>\n",
       "      <td>30.080000</td>\n",
       "      <td>30.104286</td>\n",
       "      <td>20.230061</td>\n",
       "      <td>88102700</td>\n",
       "    </tr>\n",
       "    <tr>\n",
       "      <th>1</th>\n",
       "      <td>2010-01-04</td>\n",
       "      <td>30.490000</td>\n",
       "      <td>30.642857</td>\n",
       "      <td>30.340000</td>\n",
       "      <td>30.572857</td>\n",
       "      <td>20.544939</td>\n",
       "      <td>123432400</td>\n",
       "    </tr>\n",
       "    <tr>\n",
       "      <th>2</th>\n",
       "      <td>2010-01-05</td>\n",
       "      <td>30.657143</td>\n",
       "      <td>30.798571</td>\n",
       "      <td>30.464285</td>\n",
       "      <td>30.625713</td>\n",
       "      <td>20.580460</td>\n",
       "      <td>150476200</td>\n",
       "    </tr>\n",
       "    <tr>\n",
       "      <th>3</th>\n",
       "      <td>2010-01-06</td>\n",
       "      <td>30.625713</td>\n",
       "      <td>30.747143</td>\n",
       "      <td>30.107143</td>\n",
       "      <td>30.138571</td>\n",
       "      <td>20.253105</td>\n",
       "      <td>138040000</td>\n",
       "    </tr>\n",
       "    <tr>\n",
       "      <th>4</th>\n",
       "      <td>2010-01-07</td>\n",
       "      <td>30.250000</td>\n",
       "      <td>30.285715</td>\n",
       "      <td>29.864286</td>\n",
       "      <td>30.082857</td>\n",
       "      <td>20.215658</td>\n",
       "      <td>119282800</td>\n",
       "    </tr>\n",
       "    <tr>\n",
       "      <th>...</th>\n",
       "      <td>...</td>\n",
       "      <td>...</td>\n",
       "      <td>...</td>\n",
       "      <td>...</td>\n",
       "      <td>...</td>\n",
       "      <td>...</td>\n",
       "      <td>...</td>\n",
       "    </tr>\n",
       "    <tr>\n",
       "      <th>1758</th>\n",
       "      <td>2016-12-23</td>\n",
       "      <td>115.589996</td>\n",
       "      <td>116.519997</td>\n",
       "      <td>115.589996</td>\n",
       "      <td>116.519997</td>\n",
       "      <td>113.373917</td>\n",
       "      <td>14181200</td>\n",
       "    </tr>\n",
       "    <tr>\n",
       "      <th>1759</th>\n",
       "      <td>2016-12-27</td>\n",
       "      <td>116.519997</td>\n",
       "      <td>117.800003</td>\n",
       "      <td>116.489998</td>\n",
       "      <td>117.260002</td>\n",
       "      <td>114.093948</td>\n",
       "      <td>18296900</td>\n",
       "    </tr>\n",
       "    <tr>\n",
       "      <th>1760</th>\n",
       "      <td>2016-12-28</td>\n",
       "      <td>117.519997</td>\n",
       "      <td>118.019997</td>\n",
       "      <td>116.199997</td>\n",
       "      <td>116.760002</td>\n",
       "      <td>113.607445</td>\n",
       "      <td>20905900</td>\n",
       "    </tr>\n",
       "    <tr>\n",
       "      <th>1761</th>\n",
       "      <td>2016-12-29</td>\n",
       "      <td>116.449997</td>\n",
       "      <td>117.110001</td>\n",
       "      <td>116.400002</td>\n",
       "      <td>116.730003</td>\n",
       "      <td>113.578247</td>\n",
       "      <td>15039500</td>\n",
       "    </tr>\n",
       "    <tr>\n",
       "      <th>1762</th>\n",
       "      <td>2016-12-30</td>\n",
       "      <td>116.650002</td>\n",
       "      <td>117.199997</td>\n",
       "      <td>115.430000</td>\n",
       "      <td>115.820000</td>\n",
       "      <td>112.692825</td>\n",
       "      <td>30586300</td>\n",
       "    </tr>\n",
       "  </tbody>\n",
       "</table>\n",
       "<p>1763 rows × 7 columns</p>\n",
       "</div>"
      ],
      "text/plain": [
       "            Date        Open        High         Low       Close   Adj Close  \\\n",
       "0     2009-12-31   30.447144   30.478571   30.080000   30.104286   20.230061   \n",
       "1     2010-01-04   30.490000   30.642857   30.340000   30.572857   20.544939   \n",
       "2     2010-01-05   30.657143   30.798571   30.464285   30.625713   20.580460   \n",
       "3     2010-01-06   30.625713   30.747143   30.107143   30.138571   20.253105   \n",
       "4     2010-01-07   30.250000   30.285715   29.864286   30.082857   20.215658   \n",
       "...          ...         ...         ...         ...         ...         ...   \n",
       "1758  2016-12-23  115.589996  116.519997  115.589996  116.519997  113.373917   \n",
       "1759  2016-12-27  116.519997  117.800003  116.489998  117.260002  114.093948   \n",
       "1760  2016-12-28  117.519997  118.019997  116.199997  116.760002  113.607445   \n",
       "1761  2016-12-29  116.449997  117.110001  116.400002  116.730003  113.578247   \n",
       "1762  2016-12-30  116.650002  117.199997  115.430000  115.820000  112.692825   \n",
       "\n",
       "         Volume  \n",
       "0      88102700  \n",
       "1     123432400  \n",
       "2     150476200  \n",
       "3     138040000  \n",
       "4     119282800  \n",
       "...         ...  \n",
       "1758   14181200  \n",
       "1759   18296900  \n",
       "1760   20905900  \n",
       "1761   15039500  \n",
       "1762   30586300  \n",
       "\n",
       "[1763 rows x 7 columns]"
      ]
     },
     "execution_count": 31,
     "metadata": {},
     "output_type": "execute_result"
    }
   ],
   "source": [
    "train_data"
   ]
  },
  {
   "cell_type": "markdown",
   "metadata": {
    "_uuid": "5ff8c2d5d18c33621893f0299090b684dc88d04e"
   },
   "source": [
    "## Feature Scaling"
   ]
  },
  {
   "cell_type": "code",
   "execution_count": 32,
   "metadata": {
    "_uuid": "d41b386073ad60851e8ecf7e6d14d53d1df8da9f"
   },
   "outputs": [],
   "source": [
    "scaler = MinMaxScaler()\n",
    "train_scaled = scaler.fit_transform(train)"
   ]
  },
  {
   "cell_type": "code",
   "execution_count": 34,
   "metadata": {},
   "outputs": [
    {
     "data": {
      "text/plain": [
       "array([[ 30.447144],\n",
       "       [ 30.49    ],\n",
       "       [ 30.657143],\n",
       "       ...,\n",
       "       [117.519997],\n",
       "       [116.449997],\n",
       "       [116.650002]])"
      ]
     },
     "execution_count": 34,
     "metadata": {},
     "output_type": "execute_result"
    }
   ],
   "source": [
    "train"
   ]
  },
  {
   "cell_type": "code",
   "execution_count": 33,
   "metadata": {},
   "outputs": [
    {
     "data": {
      "text/plain": [
       "array([[0.02772252],\n",
       "       [0.02812313],\n",
       "       [0.02968552],\n",
       "       ...,\n",
       "       [0.84165045],\n",
       "       [0.83164845],\n",
       "       [0.83351803]])"
      ]
     },
     "execution_count": 33,
     "metadata": {},
     "output_type": "execute_result"
    }
   ],
   "source": [
    "train_scaled"
   ]
  },
  {
   "cell_type": "code",
   "execution_count": 16,
   "metadata": {},
   "outputs": [
    {
     "data": {
      "text/plain": [
       "array([[0.02772252, 0.02812313, 0.02968552, ..., 0.05147893, 0.04884823,\n",
       "        0.05425652],\n",
       "       [0.02812313, 0.02968552, 0.02939173, ..., 0.04884823, 0.05425652,\n",
       "        0.05906389],\n",
       "       [0.02968552, 0.02939173, 0.02587969, ..., 0.05425652, 0.05906389,\n",
       "        0.05758164],\n",
       "       ...,\n",
       "       [0.79668819, 0.79995987, 0.80313811, ..., 0.83071369, 0.82360944,\n",
       "        0.83230278],\n",
       "       [0.79995987, 0.80313811, 0.80594237, ..., 0.82360944, 0.83230278,\n",
       "        0.84165045],\n",
       "       [0.80313811, 0.80594237, 0.81164445, ..., 0.83230278, 0.84165045,\n",
       "        0.83164845]])"
      ]
     },
     "execution_count": 16,
     "metadata": {},
     "output_type": "execute_result"
    }
   ],
   "source": [
    "X_train"
   ]
  },
  {
   "cell_type": "markdown",
   "metadata": {
    "_uuid": "c61369e3baf4d349e14e4822aa30531aeaf9df64"
   },
   "source": [
    "## Now we will creating a data structure with 60 timesteps and 1 output, i.e.Open Stock Price "
   ]
  },
  {
   "cell_type": "code",
   "execution_count": 15,
   "metadata": {
    "_uuid": "39e7cabc9712578ef5a578eedd16ac5b760c2ad4"
   },
   "outputs": [],
   "source": [
    "X_train = []\n",
    "y_train = []\n",
    "for i in range(60, train.shape[0]):\n",
    "    X_train.append(train_scaled[i-60:i, 0])\n",
    "    y_train.append(train_scaled[i, 0])\n",
    "X_train, y_train = np.array(X_train), np.array(y_train)"
   ]
  },
  {
   "cell_type": "markdown",
   "metadata": {
    "_uuid": "4a405090175d6f5d77cbabc77cb54f9d527a7e7a"
   },
   "source": [
    "## Reshaping\n",
    "*  ### Here second argument is (batch_size, time_step ,input_dim)\n",
    "* ### batch_size is total number of stock price from 2009-12-31 to 2016, i.e. given by X_train.shape[0]\n",
    "* ### time_step is total number of previous stock price we want to consider while predicting present stock price, i.e given by X_train.shape[1]\n",
    "* ### third argument is input_dim-in our case it is 1, i.e.Open price, but it can be more than one. It basically includes all those factors/indicators that can affect present stock price "
   ]
  },
  {
   "cell_type": "code",
   "execution_count": 20,
   "metadata": {
    "_uuid": "10cc486c59a16a6bbf4b67735e3c89b1ccf6da18"
   },
   "outputs": [],
   "source": [
    "X_train = np.reshape(X_train, (X_train.shape[0], X_train.shape[1], 1))"
   ]
  },
  {
   "cell_type": "markdown",
   "metadata": {
    "_uuid": "1835159a6decd67fa197e87ccba14a8706f766fb"
   },
   "source": [
    "## Building the RNN"
   ]
  },
  {
   "cell_type": "markdown",
   "metadata": {},
   "source": [
    "# LSTM \n",
    "LSTM，全稱為長短期記憶網絡（長短期內存網絡），是一種特殊的RNN，能夠學習到長期依賴關係.LSTM由Hochreiter＆Schmidhuber（1997）提出，許多研究者進行了一系列的工作對其改進並使之發揚光大.LSTM在許多問題上效果非常好，現在被廣泛使用。\n",
    "\n",
    "LSTM在設計上明確地避免了長期依賴的問題。記住長期信息是小菜一碟！所有的循環神經網絡都有著重複的神經網絡模塊形成鏈的形式。在普通的RNN中，重複模塊結構非常簡單，例如只有一個正切層。\n",
    "\n",
    "![Alt text](https://www.yunaitong.cn/media/14585445702525/14585498578776.jpg)\n",
    "\n",
    "LSTM也有這種鏈狀結構，不過其重複模塊的結構不同.LSTM的重複模塊中有4個神經網絡層，並且他們之間的交互非常特別。\n",
    "\n",
    "![Alt text](https://www.yunaitong.cn/media/14585445702525/14585500063294.png)\n",
    "\n",
    "各圖示代表意思\n",
    "![Alt text](https://www.yunaitong.cn/media/14585445702525/14585501719114.jpg)\n",
    "\n",
    "詳細 :https://www.yunaitong.cn/understanding-lstm-networks.html"
   ]
  },
  {
   "cell_type": "code",
   "execution_count": 21,
   "metadata": {
    "_uuid": "dcb442af0e17efc84b7c6028fbda34424be19159"
   },
   "outputs": [
    {
     "name": "stderr",
     "output_type": "stream",
     "text": [
      "\n",
      "KeyboardInterrupt\n",
      "\n"
     ]
    }
   ],
   "source": [
    "model = Sequential()\n",
    "\n",
    "# Adding the first LSTM layer \n",
    "# Here return_sequences=True means whether to return the last output in the output sequence, or the full sequence.\n",
    "# it basically tells us that there is another(or more) LSTM layer ahead in the network.\n",
    "model.add(LSTM(units = 50, return_sequences = True, input_shape = (X_train.shape[1], 1)))\n",
    "# Dropout regularisation for tackling overfitting\n",
    "model.add(Dropout(0.20))\n",
    "\n",
    "model.add(LSTM(units = 50, return_sequences = True))\n",
    "model.add(Dropout(0.25))\n",
    "\n",
    "model.add(LSTM(units = 50, return_sequences = True))\n",
    "model.add(Dropout(0.25))\n",
    "\n",
    "model.add(LSTM(units = 50))\n",
    "model.add(Dropout(0.25))\n",
    "\n",
    "# Adding the output layer\n",
    "model.add(Dense(units = 1))\n",
    "\n",
    "# Compiling the RNN\n",
    "# RMSprop is a recommended optimizer as per keras documentation\n",
    "# check out https://keras.io/optimizers/ for more details\n",
    "model.compile(optimizer = 'adam', loss = 'mean_squared_error')\n",
    "\n",
    "# Fitting the RNN to the Training set\n",
    "model.fit(X_train, y_train, epochs = 100, batch_size = 32)"
   ]
  },
  {
   "cell_type": "markdown",
   "metadata": {
    "_uuid": "f09ec607cb652591445eeb16ea4673837a3225a8"
   },
   "source": [
    "## Now making the predictions and visualising the results"
   ]
  },
  {
   "cell_type": "code",
   "execution_count": 16,
   "metadata": {
    "_uuid": "42ee598301e021d085ff1b7c6fe2ea096d95cdd5"
   },
   "outputs": [],
   "source": [
    "# this will be used later while comparing and visualization\n",
    "real_stock_price = test_data.iloc[:,1:2].values"
   ]
  },
  {
   "cell_type": "code",
   "execution_count": 17,
   "metadata": {
    "_uuid": "3141953de33c6f24ad0b95d8b58ab80dd0e99283"
   },
   "outputs": [],
   "source": [
    "# combine original train and test data vertically\n",
    "# as previous Open Prices are not present in test dataset\n",
    "# e.g. for predicting Open price for first date in test data, we will need stock open prices on 60 previous dates  \n",
    "combine = pd.concat((train_data['Open'], test_data['Open']), axis = 0)\n",
    "# our test inputs also contains stock open Prices of last 60 dates (as described above)\n",
    "test_inputs = combine[len(combine) - len(test_data) - 60:].values\n",
    "test_inputs = test_inputs.reshape(-1,1)\n",
    "test_inputs = scaler.transform(test_inputs)"
   ]
  },
  {
   "cell_type": "code",
   "execution_count": 18,
   "metadata": {
    "_uuid": "ac62d6858e03ed91beea1b1a8f4770b751449c98"
   },
   "outputs": [
    {
     "data": {
      "text/plain": [
       "(420, 7)"
      ]
     },
     "execution_count": 18,
     "metadata": {},
     "output_type": "execute_result"
    }
   ],
   "source": [
    "test_data.shape"
   ]
  },
  {
   "cell_type": "code",
   "execution_count": 19,
   "metadata": {
    "_uuid": "bde82e8083a0a9defc59975ce9ac52c7183e967a"
   },
   "outputs": [],
   "source": [
    "# same steps as we followed while processing training data\n",
    "X_test = []\n",
    "for i in range(60, 480):\n",
    "    X_test.append(test_inputs[i-60:i, 0])\n",
    "X_test = np.array(X_test)\n",
    "X_test = np.reshape(X_test, (X_test.shape[0], X_test.shape[1], 1))\n",
    "predicted_stock_price = model.predict(X_test)\n",
    "# inverse_transform because prediction is done on scaled inputs\n",
    "predicted_stock_price = scaler.inverse_transform(predicted_stock_price)"
   ]
  },
  {
   "cell_type": "markdown",
   "metadata": {
    "_uuid": "2111484348c0391332e16eb4676ce549739c6fbe"
   },
   "source": [
    "## Visualising the results"
   ]
  },
  {
   "cell_type": "code",
   "execution_count": 19,
   "metadata": {
    "_uuid": "b175f4ed99d1818f297c4016403b72bd6f6c85e2"
   },
   "outputs": [
    {
     "data": {
      "image/png": "[encoded data removed]",
      "text/plain": [
       "<Figure size 432x288 with 1 Axes>"
      ]
     },
     "metadata": {},
     "output_type": "display_data"
    }
   ],
   "source": [
    "plt.plot(real_stock_price, color = 'red', label = 'Real APPL Stock Price')\n",
    "plt.plot(predicted_stock_price, color = 'blue', label = 'Predicted APPL Stock Price')\n",
    "plt.title('APPL Stock Price Prediction')\n",
    "plt.xlabel('Time')\n",
    "plt.ylabel('APPL Stock Price')\n",
    "plt.legend()\n",
    "plt.show()"
   ]
  },
  {
   "cell_type": "markdown",
   "metadata": {
    "_uuid": "4f13c55c280144233e641cf334b0ac09b3c87e3e"
   },
   "source": [
    "### 此範例指探討股價是否為上升與下降的趨勢，並不能預測真實股價狀況"
   ]
  },
  {
   "cell_type": "code",
   "execution_count": 22,
   "metadata": {},
   "outputs": [
    {
     "name": "stderr",
     "output_type": "stream",
     "text": [
      "/Library/Frameworks/Python.framework/Versions/3.6/lib/python3.6/site-packages/shap/explainers/deep.py:63: UserWarning: Please keep in mind DeepExplainer is brand new, and we are still developing it and working on characterizing/testing it on large networks. This means you should keep an eye out for odd behavior. Post any issues you run into on github.\n",
      "  \"behavior. Post any issues you run into on github.\"\n"
     ]
    }
   ],
   "source": [
    "import shap\n",
    "\n",
    "# we use the first 100 training examples as our background dataset to integrate over\n",
    "explainer = shap.DeepExplainer(model, X_train[:100])\n",
    "\n",
    "# explain the first 10 predictions\n",
    "# explaining each prediction requires 2 * background dataset size runs\n",
    "shap_values = explainer.shap_values(X_test[:10])"
   ]
  },
  {
   "cell_type": "code",
   "execution_count": null,
   "metadata": {},
   "outputs": [],
   "source": [
    "shap.force_plot()"
   ]
  }
 ],
 "metadata": {
  "kernelspec": {
   "display_name": "Python 3 (ipykernel)",
   "language": "python",
   "name": "python3"
  },
  "language_info": {
   "codemirror_mode": {
    "name": "ipython",
    "version": 3
   },
   "file_extension": ".py",
   "mimetype": "text/x-python",
   "name": "python",
   "nbconvert_exporter": "python",
   "pygments_lexer": "ipython3",
   "version": "3.10.9"
  }
 },
 "nbformat": 4,
 "nbformat_minor": 4
}
